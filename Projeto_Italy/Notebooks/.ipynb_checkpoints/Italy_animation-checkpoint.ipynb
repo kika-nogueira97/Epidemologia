{
 "cells": [
  {
   "cell_type": "code",
   "execution_count": 2,
   "metadata": {},
   "outputs": [],
   "source": [
    "import pandas as pd\n",
    "import numpy as np\n",
    "import matplotlib.pyplot as plt\n",
    "import seaborn as sns\n",
    "sns.set(style=\"darkgrid\",palette=\"tab10\")\n",
    "# plt.style.use(\"seaborn-pastel\")\n",
    "import warnings\n",
    "warnings.filterwarnings(\"ignore\")\n",
    "\n",
    "%matplotlib widget\n"
   ]
  },
  {
   "cell_type": "code",
   "execution_count": 3,
   "metadata": {},
   "outputs": [
    {
     "data": {
      "text/html": [
       "<div>\n",
       "<style scoped>\n",
       "    .dataframe tbody tr th:only-of-type {\n",
       "        vertical-align: middle;\n",
       "    }\n",
       "\n",
       "    .dataframe tbody tr th {\n",
       "        vertical-align: top;\n",
       "    }\n",
       "\n",
       "    .dataframe thead th {\n",
       "        text-align: right;\n",
       "    }\n",
       "</style>\n",
       "<table border=\"1\" class=\"dataframe\">\n",
       "  <thead>\n",
       "    <tr style=\"text-align: right;\">\n",
       "      <th></th>\n",
       "      <th>data</th>\n",
       "      <th>stato</th>\n",
       "      <th>code_region</th>\n",
       "      <th>name_region</th>\n",
       "      <th>lat</th>\n",
       "      <th>long</th>\n",
       "      <th>hospitalized_with_sintome</th>\n",
       "      <th>intensive_care</th>\n",
       "      <th>total_hospitalized</th>\n",
       "      <th>home_isolation</th>\n",
       "      <th>total_positive</th>\n",
       "      <th>variation_total_positive</th>\n",
       "      <th>new_positive</th>\n",
       "      <th>discharged_healed</th>\n",
       "      <th>deaths</th>\n",
       "      <th>total_case</th>\n",
       "      <th>material_use</th>\n",
       "      <th>cases_tested</th>\n",
       "      <th>note_it</th>\n",
       "      <th>note_en</th>\n",
       "    </tr>\n",
       "  </thead>\n",
       "  <tbody>\n",
       "    <tr>\n",
       "      <th>0</th>\n",
       "      <td>2020-02-24</td>\n",
       "      <td>ITA</td>\n",
       "      <td>13</td>\n",
       "      <td>Abruzzo</td>\n",
       "      <td>42.351222</td>\n",
       "      <td>13.398438</td>\n",
       "      <td>0</td>\n",
       "      <td>0</td>\n",
       "      <td>0</td>\n",
       "      <td>0</td>\n",
       "      <td>0</td>\n",
       "      <td>0</td>\n",
       "      <td>0</td>\n",
       "      <td>0</td>\n",
       "      <td>0</td>\n",
       "      <td>0</td>\n",
       "      <td>5</td>\n",
       "      <td>NaN</td>\n",
       "      <td>NaN</td>\n",
       "      <td>NaN</td>\n",
       "    </tr>\n",
       "    <tr>\n",
       "      <th>1</th>\n",
       "      <td>2020-02-24</td>\n",
       "      <td>ITA</td>\n",
       "      <td>17</td>\n",
       "      <td>Basilicata</td>\n",
       "      <td>40.639471</td>\n",
       "      <td>15.805148</td>\n",
       "      <td>0</td>\n",
       "      <td>0</td>\n",
       "      <td>0</td>\n",
       "      <td>0</td>\n",
       "      <td>0</td>\n",
       "      <td>0</td>\n",
       "      <td>0</td>\n",
       "      <td>0</td>\n",
       "      <td>0</td>\n",
       "      <td>0</td>\n",
       "      <td>0</td>\n",
       "      <td>NaN</td>\n",
       "      <td>NaN</td>\n",
       "      <td>NaN</td>\n",
       "    </tr>\n",
       "    <tr>\n",
       "      <th>2</th>\n",
       "      <td>2020-02-24</td>\n",
       "      <td>ITA</td>\n",
       "      <td>4</td>\n",
       "      <td>P.A. Bolzano</td>\n",
       "      <td>46.499335</td>\n",
       "      <td>11.356624</td>\n",
       "      <td>0</td>\n",
       "      <td>0</td>\n",
       "      <td>0</td>\n",
       "      <td>0</td>\n",
       "      <td>0</td>\n",
       "      <td>0</td>\n",
       "      <td>0</td>\n",
       "      <td>0</td>\n",
       "      <td>0</td>\n",
       "      <td>0</td>\n",
       "      <td>1</td>\n",
       "      <td>NaN</td>\n",
       "      <td>NaN</td>\n",
       "      <td>NaN</td>\n",
       "    </tr>\n",
       "    <tr>\n",
       "      <th>3</th>\n",
       "      <td>2020-02-24</td>\n",
       "      <td>ITA</td>\n",
       "      <td>18</td>\n",
       "      <td>Calabria</td>\n",
       "      <td>38.905976</td>\n",
       "      <td>16.594402</td>\n",
       "      <td>0</td>\n",
       "      <td>0</td>\n",
       "      <td>0</td>\n",
       "      <td>0</td>\n",
       "      <td>0</td>\n",
       "      <td>0</td>\n",
       "      <td>0</td>\n",
       "      <td>0</td>\n",
       "      <td>0</td>\n",
       "      <td>0</td>\n",
       "      <td>1</td>\n",
       "      <td>NaN</td>\n",
       "      <td>NaN</td>\n",
       "      <td>NaN</td>\n",
       "    </tr>\n",
       "    <tr>\n",
       "      <th>4</th>\n",
       "      <td>2020-02-24</td>\n",
       "      <td>ITA</td>\n",
       "      <td>15</td>\n",
       "      <td>Campania</td>\n",
       "      <td>40.839566</td>\n",
       "      <td>14.250850</td>\n",
       "      <td>0</td>\n",
       "      <td>0</td>\n",
       "      <td>0</td>\n",
       "      <td>0</td>\n",
       "      <td>0</td>\n",
       "      <td>0</td>\n",
       "      <td>0</td>\n",
       "      <td>0</td>\n",
       "      <td>0</td>\n",
       "      <td>0</td>\n",
       "      <td>10</td>\n",
       "      <td>NaN</td>\n",
       "      <td>NaN</td>\n",
       "      <td>NaN</td>\n",
       "    </tr>\n",
       "  </tbody>\n",
       "</table>\n",
       "</div>"
      ],
      "text/plain": [
       "         data stato  code_region   name_region        lat       long  \\\n",
       "0  2020-02-24   ITA           13       Abruzzo  42.351222  13.398438   \n",
       "1  2020-02-24   ITA           17    Basilicata  40.639471  15.805148   \n",
       "2  2020-02-24   ITA            4  P.A. Bolzano  46.499335  11.356624   \n",
       "3  2020-02-24   ITA           18      Calabria  38.905976  16.594402   \n",
       "4  2020-02-24   ITA           15      Campania  40.839566  14.250850   \n",
       "\n",
       "   hospitalized_with_sintome  intensive_care  total_hospitalized  \\\n",
       "0                          0               0                   0   \n",
       "1                          0               0                   0   \n",
       "2                          0               0                   0   \n",
       "3                          0               0                   0   \n",
       "4                          0               0                   0   \n",
       "\n",
       "   home_isolation  total_positive  variation_total_positive  new_positive  \\\n",
       "0               0               0                         0             0   \n",
       "1               0               0                         0             0   \n",
       "2               0               0                         0             0   \n",
       "3               0               0                         0             0   \n",
       "4               0               0                         0             0   \n",
       "\n",
       "   discharged_healed  deaths  total_case  material_use  cases_tested note_it  \\\n",
       "0                  0       0           0             5           NaN     NaN   \n",
       "1                  0       0           0             0           NaN     NaN   \n",
       "2                  0       0           0             1           NaN     NaN   \n",
       "3                  0       0           0             1           NaN     NaN   \n",
       "4                  0       0           0            10           NaN     NaN   \n",
       "\n",
       "  note_en  \n",
       "0     NaN  \n",
       "1     NaN  \n",
       "2     NaN  \n",
       "3     NaN  \n",
       "4     NaN  "
      ]
     },
     "execution_count": 3,
     "metadata": {},
     "output_type": "execute_result"
    }
   ],
   "source": [
    "df=pd.read_csv(\"../Dataset/covid_italy.csv\")\n",
    "df.head()"
   ]
  },
  {
   "cell_type": "code",
   "execution_count": 4,
   "metadata": {},
   "outputs": [
    {
     "name": "stdout",
     "output_type": "stream",
     "text": [
      "<class 'pandas.core.frame.DataFrame'>\n",
      "RangeIndex: 1293 entries, 0 to 1292\n",
      "Data columns (total 20 columns):\n",
      " #   Column                     Non-Null Count  Dtype         \n",
      "---  ------                     --------------  -----         \n",
      " 0   data                       1293 non-null   datetime64[ns]\n",
      " 1   stato                      1293 non-null   object        \n",
      " 2   code_region                1293 non-null   int64         \n",
      " 3   name_region                1293 non-null   object        \n",
      " 4   lat                        1293 non-null   float64       \n",
      " 5   long                       1293 non-null   float64       \n",
      " 6   hospitalized_with_sintome  1293 non-null   int64         \n",
      " 7   intensive_care             1293 non-null   int64         \n",
      " 8   total_hospitalized         1293 non-null   int64         \n",
      " 9   home_isolation             1293 non-null   int64         \n",
      " 10  total_positive             1293 non-null   int64         \n",
      " 11  variation_total_positive   1293 non-null   int64         \n",
      " 12  new_positive               1293 non-null   int64         \n",
      " 13  discharged_healed          1293 non-null   int64         \n",
      " 14  deaths                     1293 non-null   int64         \n",
      " 15  total_case                 1293 non-null   int64         \n",
      " 16  material_use               1293 non-null   int64         \n",
      " 17  cases_tested               248 non-null    float64       \n",
      " 18  note_it                    19 non-null     object        \n",
      " 19  note_en                    19 non-null     object        \n",
      "dtypes: datetime64[ns](1), float64(3), int64(12), object(4)\n",
      "memory usage: 202.2+ KB\n"
     ]
    }
   ],
   "source": [
    "df.data = pd.to_datetime(df.data)\n",
    "df.info()"
   ]
  },
  {
   "cell_type": "code",
   "execution_count": 17,
   "metadata": {},
   "outputs": [
    {
     "name": "stdout",
     "output_type": "stream",
     "text": [
      "Collecting pycountry\n",
      "  Downloading pycountry-19.8.18.tar.gz (10.0 MB)\n",
      "Using legacy setup.py install for pycountry, since package 'wheel' is not installed.\n",
      "Installing collected packages: pycountry\n",
      "    Running setup.py install for pycountry: started\n",
      "    Running setup.py install for pycountry: finished with status 'done'\n",
      "Successfully installed pycountry-19.8.18\n",
      "Note: you may need to restart the kernel to use updated packages.\n"
     ]
    }
   ],
   "source": [
    "pip install pycountry"
   ]
  },
  {
   "cell_type": "code",
   "execution_count": 63,
   "metadata": {},
   "outputs": [],
   "source": [
    "import pycountry\n",
    "\n",
    "data_all =  pd.pivot_table(values=\"deaths\",index=\"data\",columns=\"name_region\", data=df)\n",
    "\n",
    "is_country = dict()\n",
    "for cd in data_all:\n",
    "    try:\n",
    "        is_country[cd] = pycountry.name_region.get(name_region=cd).alpha_3\n",
    "    except:\n",
    "        data_all.drop(cd,axis=1,inplace=True)"
   ]
  },
  {
   "cell_type": "code",
   "execution_count": 64,
   "metadata": {},
   "outputs": [
    {
     "name": "stdout",
     "output_type": "stream",
     "text": [
      "Index([], dtype='object', name='name_region')\n"
     ]
    }
   ],
   "source": [
    "selected = data_all.iloc[-1,:].sort_values(ascending=False)[:10].index\n",
    "print(selected)"
   ]
  },
  {
   "cell_type": "code",
   "execution_count": 60,
   "metadata": {},
   "outputs": [
    {
     "name": "stdout",
     "output_type": "stream",
     "text": [
      "Requirement already satisfied: celluloid in c:\\osgeo4~1\\apps\\python37\\lib\\site-packages (0.2.0)\n",
      "Requirement already satisfied: matplotlib in c:\\osgeo4~1\\apps\\python37\\lib\\site-packages (from celluloid) (3.1.3)\n",
      "Requirement already satisfied: python-dateutil>=2.1 in c:\\osgeo4~1\\apps\\python37\\lib\\site-packages (from matplotlib->celluloid) (2.8.1)\n",
      "Requirement already satisfied: numpy>=1.11 in c:\\osgeo4~1\\apps\\python37\\lib\\site-packages (from matplotlib->celluloid) (1.18.1)\n",
      "Requirement already satisfied: cycler>=0.10 in c:\\osgeo4~1\\apps\\python37\\lib\\site-packages (from matplotlib->celluloid) (0.10.0)\n",
      "Requirement already satisfied: kiwisolver>=1.0.1 in c:\\osgeo4~1\\apps\\python37\\lib\\site-packages (from matplotlib->celluloid) (1.1.0)\n",
      "Requirement already satisfied: pyparsing!=2.0.4,!=2.1.2,!=2.1.6,>=2.0.1 in c:\\osgeo4~1\\apps\\python37\\lib\\site-packages (from matplotlib->celluloid) (2.4.6)\n",
      "Requirement already satisfied: six>=1.5 in c:\\osgeo4~1\\apps\\python37\\lib\\site-packages (from python-dateutil>=2.1->matplotlib->celluloid) (1.14.0)\n",
      "Requirement already satisfied: setuptools in c:\\osgeo4~1\\apps\\python37\\lib\\site-packages (from kiwisolver>=1.0.1->matplotlib->celluloid) (45.2.0)\n",
      "Note: you may need to restart the kernel to use updated packages.\n"
     ]
    }
   ],
   "source": [
    "pip install celluloid"
   ]
  },
  {
   "cell_type": "code",
   "execution_count": 61,
   "metadata": {},
   "outputs": [
    {
     "name": "stdout",
     "output_type": "stream",
     "text": [
      "Empty DataFrame\n",
      "Columns: []\n",
      "Index: []\n"
     ]
    },
    {
     "data": {
      "application/vnd.jupyter.widget-view+json": {
       "model_id": "394d961573db4701981833662c305549",
       "version_major": 2,
       "version_minor": 0
      },
      "text/plain": [
       "Canvas(toolbar=Toolbar(toolitems=[('Home', 'Reset original view', 'home', 'home'), ('Back', 'Back to previous …"
      ]
     },
     "metadata": {},
     "output_type": "display_data"
    },
    {
     "ename": "IndexError",
     "evalue": "list index out of range",
     "output_type": "error",
     "traceback": [
      "\u001b[1;31m---------------------------------------------------------------------------\u001b[0m",
      "\u001b[1;31mIndexError\u001b[0m                                Traceback (most recent call last)",
      "\u001b[1;32m<ipython-input-61-c885715c3751>\u001b[0m in \u001b[0;36m<module>\u001b[1;34m\u001b[0m\n\u001b[0;32m     28\u001b[0m     \u001b[0mcamera\u001b[0m\u001b[1;33m.\u001b[0m\u001b[0msnap\u001b[0m\u001b[1;33m(\u001b[0m\u001b[1;33m)\u001b[0m\u001b[1;33m\u001b[0m\u001b[0m\n\u001b[0;32m     29\u001b[0m \u001b[0manim\u001b[0m \u001b[1;33m=\u001b[0m \u001b[0mcamera\u001b[0m\u001b[1;33m.\u001b[0m\u001b[0manimate\u001b[0m\u001b[1;33m(\u001b[0m\u001b[0minterval\u001b[0m\u001b[1;33m=\u001b[0m\u001b[1;36m300\u001b[0m\u001b[1;33m)\u001b[0m\u001b[1;33m\u001b[0m\u001b[0m\n\u001b[1;32m---> 30\u001b[1;33m \u001b[0manim\u001b[0m\u001b[1;33m.\u001b[0m\u001b[0msave\u001b[0m\u001b[1;33m(\u001b[0m\u001b[1;34m\"Death Count per Country.gif\"\u001b[0m\u001b[1;33m,\u001b[0m \u001b[0mwriter\u001b[0m\u001b[1;33m=\u001b[0m\u001b[1;34m\"pillow\"\u001b[0m\u001b[1;33m)\u001b[0m\u001b[1;33m\u001b[0m\u001b[0m\n\u001b[0m",
      "\u001b[1;32mC:\\OSGEO4~1\\apps\\Python37\\lib\\site-packages\\matplotlib\\animation.py\u001b[0m in \u001b[0;36msave\u001b[1;34m(self, filename, writer, fps, dpi, codec, bitrate, extra_args, metadata, extra_anim, savefig_kwargs, progress_callback)\u001b[0m\n\u001b[0;32m   1154\u001b[0m                             \u001b[0mprogress_callback\u001b[0m\u001b[1;33m(\u001b[0m\u001b[0mframe_number\u001b[0m\u001b[1;33m,\u001b[0m \u001b[0mtotal_frames\u001b[0m\u001b[1;33m)\u001b[0m\u001b[1;33m\u001b[0m\u001b[0m\n\u001b[0;32m   1155\u001b[0m                             \u001b[0mframe_number\u001b[0m \u001b[1;33m+=\u001b[0m \u001b[1;36m1\u001b[0m\u001b[1;33m\u001b[0m\u001b[0m\n\u001b[1;32m-> 1156\u001b[1;33m                     \u001b[0mwriter\u001b[0m\u001b[1;33m.\u001b[0m\u001b[0mgrab_frame\u001b[0m\u001b[1;33m(\u001b[0m\u001b[1;33m**\u001b[0m\u001b[0msavefig_kwargs\u001b[0m\u001b[1;33m)\u001b[0m\u001b[1;33m\u001b[0m\u001b[0m\n\u001b[0m\u001b[0;32m   1157\u001b[0m \u001b[1;33m\u001b[0m\u001b[0m\n\u001b[0;32m   1158\u001b[0m         \u001b[1;31m# Reconnect signal for first draw if necessary\u001b[0m\u001b[1;33m\u001b[0m\u001b[1;33m\u001b[0m\u001b[0m\n",
      "\u001b[1;32mC:\\OSGEO4~1\\apps\\Python37\\lib\\contextlib.py\u001b[0m in \u001b[0;36m__exit__\u001b[1;34m(self, type, value, traceback)\u001b[0m\n\u001b[0;32m    117\u001b[0m         \u001b[1;32mif\u001b[0m \u001b[0mtype\u001b[0m \u001b[1;32mis\u001b[0m \u001b[1;32mNone\u001b[0m\u001b[1;33m:\u001b[0m\u001b[1;33m\u001b[0m\u001b[0m\n\u001b[0;32m    118\u001b[0m             \u001b[1;32mtry\u001b[0m\u001b[1;33m:\u001b[0m\u001b[1;33m\u001b[0m\u001b[0m\n\u001b[1;32m--> 119\u001b[1;33m                 \u001b[0mnext\u001b[0m\u001b[1;33m(\u001b[0m\u001b[0mself\u001b[0m\u001b[1;33m.\u001b[0m\u001b[0mgen\u001b[0m\u001b[1;33m)\u001b[0m\u001b[1;33m\u001b[0m\u001b[0m\n\u001b[0m\u001b[0;32m    120\u001b[0m             \u001b[1;32mexcept\u001b[0m \u001b[0mStopIteration\u001b[0m\u001b[1;33m:\u001b[0m\u001b[1;33m\u001b[0m\u001b[0m\n\u001b[0;32m    121\u001b[0m                 \u001b[1;32mreturn\u001b[0m \u001b[1;32mFalse\u001b[0m\u001b[1;33m\u001b[0m\u001b[0m\n",
      "\u001b[1;32mC:\\OSGEO4~1\\apps\\Python37\\lib\\site-packages\\matplotlib\\animation.py\u001b[0m in \u001b[0;36msaving\u001b[1;34m(self, fig, outfile, dpi, *args, **kwargs)\u001b[0m\n\u001b[0;32m    230\u001b[0m             \u001b[1;32myield\u001b[0m \u001b[0mself\u001b[0m\u001b[1;33m\u001b[0m\u001b[0m\n\u001b[0;32m    231\u001b[0m         \u001b[1;32mfinally\u001b[0m\u001b[1;33m:\u001b[0m\u001b[1;33m\u001b[0m\u001b[0m\n\u001b[1;32m--> 232\u001b[1;33m             \u001b[0mself\u001b[0m\u001b[1;33m.\u001b[0m\u001b[0mfinish\u001b[0m\u001b[1;33m(\u001b[0m\u001b[1;33m)\u001b[0m\u001b[1;33m\u001b[0m\u001b[0m\n\u001b[0m\u001b[0;32m    233\u001b[0m \u001b[1;33m\u001b[0m\u001b[0m\n\u001b[0;32m    234\u001b[0m \u001b[1;33m\u001b[0m\u001b[0m\n",
      "\u001b[1;32mC:\\OSGEO4~1\\apps\\Python37\\lib\\site-packages\\matplotlib\\animation.py\u001b[0m in \u001b[0;36mfinish\u001b[1;34m(self)\u001b[0m\n\u001b[0;32m    573\u001b[0m \u001b[1;33m\u001b[0m\u001b[0m\n\u001b[0;32m    574\u001b[0m     \u001b[1;32mdef\u001b[0m \u001b[0mfinish\u001b[0m\u001b[1;33m(\u001b[0m\u001b[0mself\u001b[0m\u001b[1;33m)\u001b[0m\u001b[1;33m:\u001b[0m\u001b[1;33m\u001b[0m\u001b[0m\n\u001b[1;32m--> 575\u001b[1;33m         self._frames[0].save(\n\u001b[0m\u001b[0;32m    576\u001b[0m             \u001b[0mself\u001b[0m\u001b[1;33m.\u001b[0m\u001b[0m_outfile\u001b[0m\u001b[1;33m,\u001b[0m \u001b[0msave_all\u001b[0m\u001b[1;33m=\u001b[0m\u001b[1;32mTrue\u001b[0m\u001b[1;33m,\u001b[0m \u001b[0mappend_images\u001b[0m\u001b[1;33m=\u001b[0m\u001b[0mself\u001b[0m\u001b[1;33m.\u001b[0m\u001b[0m_frames\u001b[0m\u001b[1;33m[\u001b[0m\u001b[1;36m1\u001b[0m\u001b[1;33m:\u001b[0m\u001b[1;33m]\u001b[0m\u001b[1;33m,\u001b[0m\u001b[1;33m\u001b[0m\u001b[0m\n\u001b[0;32m    577\u001b[0m             duration=int(1000 / self.fps), loop=0)\n",
      "\u001b[1;31mIndexError\u001b[0m: list index out of range"
     ]
    }
   ],
   "source": [
    "data = data_all[selected]\n",
    "data = data[data.sum(axis=1)>0]\n",
    "\n",
    "print(data)\n",
    "\n",
    "from celluloid import Camera\n",
    "fig = plt.figure(figsize=(12,5))\n",
    "fig.subplots_adjust(wspace=0.4,bottom=0.2)\n",
    "ax = fig.add_subplot(121)\n",
    "ax.set_yscale(\"log\")\n",
    "ax.set_ylabel(\"deaths\")\n",
    "ax2 = fig.add_subplot(122)\n",
    "ax2.set_xlabel(\"deaths\")\n",
    "\n",
    "camera = Camera(fig)\n",
    "for j,day in enumerate(data.index):\n",
    "    sns.barplot(x=data.iloc[j,:].values,y=data.columns,orient=\"h\",ax=ax2)\n",
    "    for i,coun in enumerate(data.columns):\n",
    "        data[coun].loc[:day].plot(ax=ax,legend=False,color=sns.color_palette(\"tab20\")[i])\n",
    "        ax.text(day,data[coun].loc[day],coun,va=\"center\")\n",
    "        try:\n",
    "            count = int(data[coun][day])\n",
    "        except:\n",
    "            count = data[coun][day]  \n",
    "        ax2.text(count+1,i,count,va=\"center\")\n",
    "        ax2.set_ylabel(None)\n",
    "        ax2.text(0.35,1.03,f\"Date: {day.date()}\",fontsize=12,transform=ax2.transAxes)\n",
    "    camera.snap()\n",
    "anim = camera.animate(interval=300)\n",
    "anim.save(\"Death Count per Country.gif\", writer=\"pillow\")"
   ]
  },
  {
   "cell_type": "code",
   "execution_count": null,
   "metadata": {},
   "outputs": [],
   "source": []
  }
 ],
 "metadata": {
  "kernelspec": {
   "display_name": "Python 3",
   "language": "python",
   "name": "python3"
  },
  "language_info": {
   "codemirror_mode": {
    "name": "ipython",
    "version": 3
   },
   "file_extension": ".py",
   "mimetype": "text/x-python",
   "name": "python",
   "nbconvert_exporter": "python",
   "pygments_lexer": "ipython3",
   "version": "3.7.0"
  }
 },
 "nbformat": 4,
 "nbformat_minor": 2
}
